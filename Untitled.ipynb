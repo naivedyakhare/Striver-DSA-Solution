{
 "cells": [
  {
   "cell_type": "markdown",
   "id": "f6b88e03-8114-4074-a209-ec37e7f8b626",
   "metadata": {},
   "source": [
    "# MATRIX 0"
   ]
  },
  {
   "cell_type": "code",
   "execution_count": 4,
   "id": "00e5e462-a980-4d59-8147-b3457e85863d",
   "metadata": {},
   "outputs": [
    {
     "name": "stdout",
     "output_type": "stream",
     "text": [
      "[[0, 1, 2, 0], [3, 4, 5, 2], [1, 3, 1, 5]]\n"
     ]
    }
   ],
   "source": [
    "arr = [[1,1,1],[1,0,1],[1,1,1]]\n",
    "arr = [[0,1,2,0],[3,4,5,2],[1,3,1,5]]\n",
    "print(arr)"
   ]
  },
  {
   "cell_type": "code",
   "execution_count": 5,
   "id": "d7cff801-600b-4873-9398-7dbddce53986",
   "metadata": {},
   "outputs": [
    {
     "name": "stdout",
     "output_type": "stream",
     "text": [
      "[0, 0, 0, 0]\n",
      "[0, 4, 5, 0]\n",
      "[0, 3, 1, 0]\n"
     ]
    }
   ],
   "source": [
    "m = len(arr)\n",
    "n = len(arr[0])\n",
    "\n",
    "i_index = []\n",
    "j_index = []\n",
    "\n",
    "for i in range(m):\n",
    "    for j in range(n):\n",
    "        if arr[i][j] == 0:\n",
    "            i_index.append(i)\n",
    "            j_index.append(j)\n",
    "for index in i_index:\n",
    "    for j in range(n):\n",
    "        arr[index][j] = 0\n",
    "\n",
    "for index in j_index:\n",
    "    for i in range(m):\n",
    "        arr[i][index] = 0\n",
    "\n",
    "for row in arr:\n",
    "    print(row)\n",
    "        "
   ]
  },
  {
   "cell_type": "markdown",
   "id": "1bd64b63-6679-4992-9b58-7d1ba974ca62",
   "metadata": {},
   "source": [
    "# PASCAL'S TRIANGLE"
   ]
  },
  {
   "cell_type": "code",
   "execution_count": 27,
   "id": "69b4b55b-9374-4406-80b3-e1e693e8304c",
   "metadata": {},
   "outputs": [
    {
     "name": "stdout",
     "output_type": "stream",
     "text": [
      "[1]\n",
      "[1, 1]\n",
      "[1, 2, 1]\n",
      "[1, 3, 3, 1]\n",
      "[1, 4, 6, 4, 1]\n"
     ]
    }
   ],
   "source": [
    "n = 5\n",
    "\n",
    "# if n == 0:\n",
    "#     return []\n",
    "# if n == 1:\n",
    "#     return [[1]]\n",
    "# if n == 2:\n",
    "#     return [[1], [1,1]]\n",
    "\n",
    "arr = [[1], [1,1]]\n",
    "for i in range(2, n):\n",
    "    arr.append([1])\n",
    "    for j in range(i-1):\n",
    "        arr[-1].append(arr[-2][j] + arr[-2][j+1])\n",
    "    arr[-1].append(1)\n",
    "    \n",
    "for row in arr:\n",
    "    print(row)"
   ]
  },
  {
   "cell_type": "markdown",
   "id": "f91630a5-cc2e-42f9-8d16-32f7bd8bcf69",
   "metadata": {},
   "source": [
    "# Next permutation"
   ]
  },
  {
   "cell_type": "code",
   "execution_count": 157,
   "id": "0462e400-abc4-42fe-bb45-32426878fae2",
   "metadata": {},
   "outputs": [
    {
     "name": "stdout",
     "output_type": "stream",
     "text": [
      "[2, 3, 1, 3, 3]\n"
     ]
    }
   ],
   "source": [
    "arr = [1,3,4,2,5]\n",
    "# arr = [1,2,3,4,5]\n",
    "arr = [2,3,1,3,3]\n",
    "n = len(arr)\n",
    "print(arr)"
   ]
  },
  {
   "cell_type": "code",
   "execution_count": 158,
   "id": "65ecd691-8219-4488-9cdc-846b8398d9a3",
   "metadata": {},
   "outputs": [
    {
     "name": "stdout",
     "output_type": "stream",
     "text": [
      "3\n",
      "[2, 3, 3, 1, 3]\n"
     ]
    }
   ],
   "source": [
    "def reverse_arr(start, end):\n",
    "    while start <= end:\n",
    "        arr[start], arr[end] = arr[end], arr[start]\n",
    "        start += 1\n",
    "        end -= 1\n",
    "    return \n",
    "    \n",
    "index = 0\n",
    "for i in range(n-1, 0, -1):\n",
    "    if arr[i] > arr[i-1]:\n",
    "        index = i\n",
    "        break\n",
    "\n",
    "print(index)\n",
    "if index == 0:\n",
    "    reverse_arr(0, n-1)\n",
    "    print(arr)\n",
    "\n",
    "small_index = index\n",
    "for i in range(index + 1, n):\n",
    "    if(arr[i] > arr[index-1] and arr[index] >= arr[i]):\n",
    "        small_index = i\n",
    "    \n",
    "arr[small_index], arr[index-1] = arr[index-1], arr[small_index]\n",
    "reverse_arr(index, n-1)\n",
    "print(arr)"
   ]
  },
  {
   "cell_type": "markdown",
   "id": "3bfecdb8-aa58-4d1e-a6e4-cee276c40b95",
   "metadata": {},
   "source": [
    "# Kadane's Algorithm"
   ]
  },
  {
   "cell_type": "code",
   "execution_count": null,
   "id": "65016182-a281-445e-975f-a2234b8fd8d1",
   "metadata": {},
   "outputs": [],
   "source": [
    "arr =[-2,-3,-4,-5,-1]\n",
    "import math\n",
    "total = -math.inf\n",
    "current_total = 0\n",
    "\n",
    "n = len(arr)\n",
    "\n",
    "for i in range(n):\n",
    "    current_total += arr[i]\n",
    "    \n",
    "    if total < current_total:\n",
    "        total = current_total\n",
    "    \n",
    "    if current_total < 0:\n",
    "        current_total = 0\n",
    "\n",
    "print(total)"
   ]
  },
  {
   "cell_type": "markdown",
   "id": "8439ace3-dd51-4752-bdd4-d9eedb5e363c",
   "metadata": {},
   "source": [
    "# Dutch National Flag Problem"
   ]
  },
  {
   "cell_type": "code",
   "execution_count": 245,
   "id": "4b3417df-3fc0-4859-8131-8a4366721f10",
   "metadata": {},
   "outputs": [
    {
     "name": "stdout",
     "output_type": "stream",
     "text": [
      "[0, 0, 1, 1, 2, 2]\n"
     ]
    }
   ],
   "source": [
    "arr = [2,0,2,1,1,0]\n",
    "# arr = [2,0,1]\n",
    "n = len(arr)\n",
    "\n",
    "start = 0\n",
    "end = n - 1\n",
    "middle = 0\n",
    "\n",
    "while end >= middle:\n",
    "    if arr[middle] == 0:\n",
    "        arr[start], arr[middle] = arr[middle], arr[start]\n",
    "        start += 1\n",
    "        middle += 1\n",
    "        \n",
    "    elif arr[middle] == 1:\n",
    "        middle += 1\n",
    "        \n",
    "    elif arr[middle] == 2:\n",
    "        arr[end], arr[middle] = arr[middle], arr[end]\n",
    "        end -= 1\n",
    "\n",
    "print(arr)"
   ]
  },
  {
   "cell_type": "markdown",
   "id": "7043669b-266c-4a30-aab2-62ecb57c9bee",
   "metadata": {},
   "source": [
    "# Stock buy and sell"
   ]
  },
  {
   "cell_type": "code",
   "execution_count": 246,
   "id": "e79d155a-de91-4ba0-b9bf-6c99e990f809",
   "metadata": {},
   "outputs": [
    {
     "name": "stdout",
     "output_type": "stream",
     "text": [
      "5\n"
     ]
    }
   ],
   "source": [
    "arr = [7, 1, 5, 3, 6, 4]\n",
    "\n",
    "profit = 0\n",
    "n = len(arr)\n",
    "\n",
    "for i in range(n):\n",
    "    for j in range(i, n):\n",
    "        if profit < arr[j] - arr[i]:\n",
    "            profit = arr[j] - arr[i]\n",
    "print(profit)"
   ]
  },
  {
   "cell_type": "code",
   "execution_count": 272,
   "id": "995b9c97-8abc-4b5a-8cbb-62fc59dc2369",
   "metadata": {},
   "outputs": [
    {
     "name": "stdout",
     "output_type": "stream",
     "text": [
      "8\n"
     ]
    }
   ],
   "source": [
    "def func():\n",
    "    arr = [7, 1, 9, 3, 9, 4]\n",
    "    n = len(arr)\n",
    "    if n == 1 or n == 0:\n",
    "        return 0\n",
    "    elif n == 2:\n",
    "        return arr[1] - arr[0] if arr[1] - arr[0] > 0 else 0\n",
    "        \n",
    "    total_profit = 0\n",
    "    buy = arr[0]\n",
    "    \n",
    "    for i in range(1, n):\n",
    "        current_profit = arr[i] - buy\n",
    "        if current_profit < 0:\n",
    "            current_profit = 0\n",
    "            buy = arr[i]\n",
    "        else:\n",
    "            if current_profit > total_profit:\n",
    "                total_profit = current_profit\n",
    "    \n",
    "    \n",
    "    print(total_profit)\n",
    "\n",
    "func()"
   ]
  },
  {
   "cell_type": "code",
   "execution_count": null,
   "id": "604ec570-472b-40f3-9ae0-ff33bfa07b2c",
   "metadata": {},
   "outputs": [],
   "source": []
  }
 ],
 "metadata": {
  "kernelspec": {
   "display_name": "Python 3 (ipykernel)",
   "language": "python",
   "name": "python3"
  },
  "language_info": {
   "codemirror_mode": {
    "name": "ipython",
    "version": 3
   },
   "file_extension": ".py",
   "mimetype": "text/x-python",
   "name": "python",
   "nbconvert_exporter": "python",
   "pygments_lexer": "ipython3",
   "version": "3.12.4"
  }
 },
 "nbformat": 4,
 "nbformat_minor": 5
}
